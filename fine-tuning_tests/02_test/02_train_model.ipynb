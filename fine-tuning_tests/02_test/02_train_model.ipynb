{
 "cells": [
  {
   "cell_type": "markdown",
   "metadata": {},
   "source": [
    "# Train model\n",
    "\n",
    "---\n",
    "\n",
    "Para entrenar el modelo hay que subir el archivo `training_examples.jsonl` a los servidores de OpenAI. Es posible que tarde unos minutos para que se genere el modelo \"fine-tuneado\".\n",
    "\n",
    "---\n",
    "\n",
    "Utilicé la versión 0.28.0 de `openai`."
   ]
  },
  {
   "cell_type": "code",
   "execution_count": 1,
   "metadata": {},
   "outputs": [],
   "source": [
    "import os\n",
    "import openai"
   ]
  },
  {
   "cell_type": "code",
   "execution_count": 3,
   "metadata": {},
   "outputs": [],
   "source": [
    "openai.api_key = '...'"
   ]
  },
  {
   "cell_type": "code",
   "execution_count": null,
   "metadata": {},
   "outputs": [],
   "source": [
    "file_id = openai.File.create(\n",
    "  file = open(\"training_examples.jsonl\", \"rb\"),\n",
    "  purpose = 'fine-tune'\n",
    ").id"
   ]
  },
  {
   "cell_type": "code",
   "execution_count": null,
   "metadata": {},
   "outputs": [],
   "source": [
    "job = openai.FineTuningJob.create(training_file = file_id, model = \"gpt-3.5-turbo\", suffix = \"test02\") # Aquí puedes cambiar el modelo a entrenar y el sufijo que se le añadirá al nombre del modelo.\n",
    "job_id = job.id"
   ]
  },
  {
   "cell_type": "code",
   "execution_count": null,
   "metadata": {},
   "outputs": [
    {
     "data": {
      "text/plain": [
       "<OpenAIObject list at 0x2dcc2aedf90> JSON: {\n",
       "  \"object\": \"list\",\n",
       "  \"data\": [\n",
       "    {\n",
       "      \"object\": \"fine_tuning.job.event\",\n",
       "      \"id\": \"ftevent-9ipniKPillldYLYuUyZK2xP5\",\n",
       "      \"created_at\": 1705587611,\n",
       "      \"level\": \"info\",\n",
       "      \"message\": \"Validating training file: file-eSlIeooeZZEgOCFKOfF2StfP\",\n",
       "      \"data\": {},\n",
       "      \"type\": \"message\"\n",
       "    },\n",
       "    {\n",
       "      \"object\": \"fine_tuning.job.event\",\n",
       "      \"id\": \"ftevent-s4u5NS9C5Oil8dc8zbgGLo0w\",\n",
       "      \"created_at\": 1705587611,\n",
       "      \"level\": \"info\",\n",
       "      \"message\": \"Created fine-tuning job: ftjob-qw6B0evE6omEUTBDsPZcywmr\",\n",
       "      \"data\": {},\n",
       "      \"type\": \"message\"\n",
       "    }\n",
       "  ],\n",
       "  \"has_more\": false\n",
       "}"
      ]
     },
     "metadata": {},
     "output_type": "display_data"
    }
   ],
   "source": [
    "openai.FineTuningJob.list_events(id = job_id, limit = 10)"
   ]
  }
 ],
 "metadata": {
  "kernelspec": {
   "display_name": "test02_02",
   "language": "python",
   "name": "python3"
  },
  "language_info": {
   "codemirror_mode": {
    "name": "ipython",
    "version": 3
   },
   "file_extension": ".py",
   "mimetype": "text/x-python",
   "name": "python",
   "nbconvert_exporter": "python",
   "pygments_lexer": "ipython3",
   "version": "3.8.18"
  }
 },
 "nbformat": 4,
 "nbformat_minor": 2
}
