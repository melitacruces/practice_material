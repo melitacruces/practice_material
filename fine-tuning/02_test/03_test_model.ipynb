{
 "cells": [
  {
   "cell_type": "markdown",
   "metadata": {},
   "source": [
    "# Test model"
   ]
  },
  {
   "cell_type": "code",
   "execution_count": 1,
   "metadata": {},
   "outputs": [],
   "source": [
    "import os\n",
    "import openai"
   ]
  },
  {
   "cell_type": "code",
   "execution_count": 2,
   "metadata": {},
   "outputs": [],
   "source": [
    "openai.api_key = '...'"
   ]
  },
  {
   "cell_type": "markdown",
   "metadata": {},
   "source": [
    "El `system_message` depende de lo generado en `01_data_generation.ipynb`. Lo hice en otro "
   ]
  },
  {
   "cell_type": "code",
   "execution_count": 3,
   "metadata": {},
   "outputs": [],
   "source": [
    "system_message = 'Given an English reasoning-heavy question, you will provide a well-reasoned, step-by-step response in Spanish.'"
   ]
  },
  {
   "cell_type": "code",
   "execution_count": 4,
   "metadata": {},
   "outputs": [
    {
     "data": {
      "text/plain": [
       "'Para aprender a hacer un sitio web, puedes seguir los siguientes pasos:\\n\\n1. Familiarízate con HTML: HTML es el lenguaje de marcado básico para crear páginas web. Puedes aprender los fundamentos de HTML a través de tutoriales en línea o libros introductorios. HTML se utiliza para estructurar el contenido de tu sitio web.\\n\\n2. Aprende CSS: CSS es el lenguaje de estilo que se utiliza para dar estilo a las páginas web. Te permite controlar el diseño y la apariencia de tu sitio web. Después de aprender HTML, puedes pasar al CSS para diseñar y personalizar tu sitio web.\\n\\n3. Practica con un editor de código: Necesitarás un editor de código para escribir tu código HTML y CSS. Puedes usar editores de texto simples como Notepad++ para principiantes o editores más avanzados como Visual Studio Code o Sublime Text.\\n\\n4. Crea tu primer sitio web: Una vez que te sientas cómodo con HTML y CSS, puedes comenzar a crear tu primer sitio web. Empieza con un proyecto pequeño y sencillo, como una página de presentación personal o un blog básico. A medida que ganas más experiencia, puedes construir sitios web más complejos.\\n\\n5. Aprende JavaScript: Si quieres agregar interactividad y funcionalidades avanzadas a tu sitio web, debes aprender JavaScript. JavaScript es un lenguaje de programación muy utilizado en el desarrollo web. Te permitirá crear efectos dinámicos, formularios interactivos y mucho más.\\n\\n6. Aprende sobre gestores de contenido: Si quieres crear un sitio web más complejo o un blog, puedes considerar el uso de un gestor de contenido como WordPress. Estas plataformas facilitan la creación y gestión de sitios web sin necesidad de conocimientos de programación avanzados.\\n\\nRecuerda que aprender a hacer un sitio web es un proceso continuo. A medida que adquieres experiencia y conocimientos, puedes explorar temas más avanzados como la optimización para motores de búsqueda (SEO), el diseño responsivo y la seguridad del sitio web. ¡Buena suerte con tu aprendizaje!'"
      ]
     },
     "execution_count": 4,
     "metadata": {},
     "output_type": "execute_result"
    }
   ],
   "source": [
    "response = openai.ChatCompletion.create(\n",
    "    model = 'ft:gpt-3.5-turbo-0613:melitacruces:test02:8iNp1SuI',\n",
    "    messages = [\n",
    "      {\n",
    "        \"role\": \"system\",\n",
    "        \"content\": system_message,\n",
    "      },\n",
    "      {\n",
    "        \"role\": \"user\",\n",
    "        \"content\": \"I want to learn how to make a website.\",\n",
    "      }\n",
    "    ],\n",
    ")\n",
    "\n",
    "response.choices[0].message['content']"
   ]
  }
 ],
 "metadata": {
  "kernelspec": {
   "display_name": "test02_02",
   "language": "python",
   "name": "python3"
  },
  "language_info": {
   "codemirror_mode": {
    "name": "ipython",
    "version": 3
   },
   "file_extension": ".py",
   "mimetype": "text/x-python",
   "name": "python",
   "nbconvert_exporter": "python",
   "pygments_lexer": "ipython3",
   "version": "3.8.18"
  }
 },
 "nbformat": 4,
 "nbformat_minor": 2
}
