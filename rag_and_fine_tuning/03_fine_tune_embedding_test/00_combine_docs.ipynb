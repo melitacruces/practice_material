{
 "cells": [
  {
   "cell_type": "code",
   "execution_count": 1,
   "metadata": {},
   "outputs": [
    {
     "name": "stderr",
     "output_type": "stream",
     "text": [
      "PdfReadWarning: Xref table not zero-indexed. ID numbers for objects will be corrected. [pdf.py:1801]\n"
     ]
    }
   ],
   "source": [
    "from PyPDF4 import PdfFileMerger\n",
    "\n",
    "merger = PdfFileMerger()\n",
    "\n",
    "merger.append('./docs/2018 DECRETO REGLAMENTO GENERAL DE DOCENCIA DE PREGRADO.pdf')\n",
    "merger.append('./docs/decreto 2022-067.pdf')\n",
    "merger.append('./docs/decreto_94-162.pdf')\n",
    "merger.append('./docs/decreto_2000-197.pdf')\n",
    "merger.append('./docs/decreto_2004-076.pdf')\n",
    "merger.write('./docs/val_doc.pdf')\n",
    "merger.close()"
   ]
  }
 ],
 "metadata": {
  "kernelspec": {
   "display_name": "llama_index",
   "language": "python",
   "name": "python3"
  },
  "language_info": {
   "codemirror_mode": {
    "name": "ipython",
    "version": 3
   },
   "file_extension": ".py",
   "mimetype": "text/x-python",
   "name": "python",
   "nbconvert_exporter": "python",
   "pygments_lexer": "ipython3",
   "version": "3.8.18"
  }
 },
 "nbformat": 4,
 "nbformat_minor": 2
}
